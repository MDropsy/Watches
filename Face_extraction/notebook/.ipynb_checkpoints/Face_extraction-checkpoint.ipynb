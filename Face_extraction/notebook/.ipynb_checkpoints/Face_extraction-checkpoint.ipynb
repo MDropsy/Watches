{
 "cells": [
  {
   "cell_type": "code",
   "execution_count": 1,
   "metadata": {},
   "outputs": [],
   "source": [
    "import os\n",
    "import cv2\n",
    "import numpy as np"
   ]
  },
  {
   "cell_type": "code",
   "execution_count": 95,
   "metadata": {},
   "outputs": [],
   "source": [
    "# Read the model \n",
    "model = cv2.dnn.readNetFromCaffe('../model_data/deploy.prototxt', '../model_data/weights.caffemodel')"
   ]
  },
  {
   "cell_type": "code",
   "execution_count": 96,
   "metadata": {},
   "outputs": [],
   "source": [
    "def read_and_blob(image_path):\n",
    "    image = cv2.imread(image_path)\n",
    "    (h, w) = image.shape[:2]\n",
    "    blob = cv2.dnn.blobFromImage(cv2.resize(image, (300, 300)), 1.0, (300, 300), (104.0, 177.0, 123.0))\n",
    "    model.setInput(blob)\n",
    "    detections = model.forward()\n",
    "    return detections\n",
    "\n",
    "\n",
    "def extract_faces(detected_faces, img_name):\n",
    "    # Create frame around face\n",
    "   \n",
    "    for i in range(0, detected_faces.shape[2]):\n",
    "    \n",
    "        box = detected_faces[0, 0, i, 3:7] * np.array([w, h, w, h])\n",
    "        (startX, startY, endX, endY) = box.astype(\"int\")\n",
    "\n",
    "        confidence = detected_faces[0, 0, i, 2]\n",
    "\n",
    "        # If confidence > 0.5, show box around face\n",
    "        if (confidence > 0.5):\n",
    "            cv2.rectangle(image, (startX, startY), (endX, endY), (0, 255, 0), 2)\n",
    "        \n",
    "\n",
    "            frame = image[startY:endY, startX:endX]\n",
    "            cv2.imwrite(f'../extracted_faces/face{i+1}_'+img_name, frame)\n",
    "            print(f'Face {i+1} on image : {img_name} extracted.')\n",
    "    \n",
    "    cv2.imwrite(f'../rectangle_detection/face{i+1}_'+img_name, image)\n",
    "    print(f'Box on image : {img_name} drawn.')"
   ]
  },
  {
   "cell_type": "code",
   "execution_count": 90,
   "metadata": {},
   "outputs": [
    {
     "name": "stdout",
     "output_type": "stream",
     "text": [
      "Image 17571457.png starting.\n",
      "../base_images/17571457.png\n",
      "Face 1 on image : 17571457.png extracted.\n",
      "Face 2 on image : 17571457.png extracted.\n",
      "Box on image : 17571457.png drawn.\n",
      "Image: 17571457.png completed.\n",
      "Image 111.png starting.\n",
      "../base_images/111.png\n",
      "Face 1 on image : 111.png extracted.\n",
      "Face 2 on image : 111.png extracted.\n",
      "Face 3 on image : 111.png extracted.\n",
      "Face 4 on image : 111.png extracted.\n",
      "Face 5 on image : 111.png extracted.\n",
      "Box on image : 111.png drawn.\n",
      "Image: 111.png completed.\n"
     ]
    }
   ],
   "source": [
    "for file in os.listdir('../base_images/'):\n",
    "    print(f'Image {file} starting.')\n",
    "    path_1 = os.path.join('../base_images/', file)\n",
    "    \n",
    "    \n",
    "    print(path_1)\n",
    "    detected_faces = read_and_blob(path_1)\n",
    "   \n",
    "    extract_faces(detected_faces, file)\n",
    "    \n",
    "    print(f'Image: {file} completed.')"
   ]
  },
  {
   "cell_type": "code",
   "execution_count": 97,
   "metadata": {},
   "outputs": [
    {
     "name": "stdout",
     "output_type": "stream",
     "text": [
      "Face 1 on image : 111.png extracted.\n",
      "Face 2 on image : 111.png extracted.\n",
      "Face 3 on image : 111.png extracted.\n",
      "Face 4 on image : 111.png extracted.\n",
      "Face 5 on image : 111.png extracted.\n",
      "Box on image : 111.png drawn.\n"
     ]
    }
   ],
   "source": [
    "detected_faces = read_and_blob('../base_images/111.png')\n",
    "extract_faces(detected_faces, '111.png')"
   ]
  },
  {
   "cell_type": "code",
   "execution_count": 99,
   "metadata": {},
   "outputs": [],
   "source": [
    "# convert image in grayscale\n",
    "def convt_to_gray(img_path_in, img_path_out):\n",
    " \n",
    "    img = cv2.imread(img_path_in)\n",
    "    gray = cv2.cvtColor(img, cv2.COLOR_BGR2GRAY)\n",
    "    cv2.imwrite(img_path_out, gray)\n"
   ]
  },
  {
   "cell_type": "code",
   "execution_count": 101,
   "metadata": {},
   "outputs": [],
   "source": [
    "def change_image(img_path_in, img_path_out):\n",
    "   \n",
    "        img = cv2.imread(img_path_in)\n",
    "        face_clip = img[40:240, 35:225]         #cropping the face in image\n",
    "        face_resized = cv2.resize(face_clip, (350, 350))\n",
    "        cv2.imwrite(img_path_out, face_resized) #resizing and saving the image"
   ]
  },
  {
   "cell_type": "code",
   "execution_count": null,
   "metadata": {},
   "outputs": [],
   "source": []
  }
 ],
 "metadata": {
  "kernelspec": {
   "display_name": "Python 3",
   "language": "python",
   "name": "python3"
  },
  "language_info": {
   "codemirror_mode": {
    "name": "ipython",
    "version": 3
   },
   "file_extension": ".py",
   "mimetype": "text/x-python",
   "name": "python",
   "nbconvert_exporter": "python",
   "pygments_lexer": "ipython3",
   "version": "3.8.3"
  }
 },
 "nbformat": 4,
 "nbformat_minor": 4
}
