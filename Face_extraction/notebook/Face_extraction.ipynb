{
 "cells": [
  {
   "cell_type": "code",
   "execution_count": 1,
   "metadata": {},
   "outputs": [],
   "source": [
    "import os\n",
    "import cv2\n",
    "import numpy as np"
   ]
  },
  {
   "cell_type": "code",
   "execution_count": 2,
   "metadata": {},
   "outputs": [],
   "source": [
    "# Read the model \n",
    "model = cv2.dnn.readNetFromCaffe('../model_data/deploy.prototxt', '../model_data/weights.caffemodel')"
   ]
  },
  {
   "cell_type": "code",
   "execution_count": 3,
   "metadata": {},
   "outputs": [],
   "source": [
    "'''def read_and_blob(image_path):\n",
    "    image = cv2.imread(image_path)\n",
    "    (h, w) = image.shape[:2]\n",
    "    blob = cv2.dnn.blobFromImage(cv2.resize(image, (300, 300)), 1.0, (300, 300), (104.0, 177.0, 123.0))\n",
    "    model.setInput(blob)\n",
    "    detections = model.forward()\n",
    "    return detections ,h,w'''\n",
    "\n",
    "\n",
    "def extract_faces(img_name, count):\n",
    "    # Create frame around face\n",
    "    \n",
    "    image = cv2.imread(img_name)\n",
    "    (h, w) = image.shape[:2]\n",
    "    blob = cv2.dnn.blobFromImage(cv2.resize(image, (300, 300)), 1.0, (300, 300), (104.0, 177.0, 123.0))\n",
    "    model.setInput(blob)\n",
    "    detected_faces = model.forward()\n",
    "    \n",
    "    for i in range(0, detected_faces.shape[2]):\n",
    "    \n",
    "        box = detected_faces[0, 0, i, 3:7] * np.array([w, h, w, h])\n",
    "        (startX, startY, endX, endY) = box.astype(\"int\")\n",
    "\n",
    "        confidence = detected_faces[0, 0, i, 2]\n",
    "\n",
    "        # If confidence > 0.5, show box around face\n",
    "        if (confidence > 0.5):\n",
    "            cv2.rectangle(image, (startX, startY), (endX, endY), (0, 255, 0), 2)\n",
    "        \n",
    "\n",
    "            frame = image[startY:endY, startX:endX]\n",
    "            cv2.imwrite(f'../extracted_faces/{count}face{i+1}_'+'.png', frame)\n",
    "            print(f'Face {i+1} on image : 111.png extracted.')\n",
    "        \n",
    "    cv2.imwrite(f'../rectangle_detection/face{i+1}'+'.png', image)\n",
    "\n",
    "    print(f'Box on image : 111.png drawn.')"
   ]
  },
  {
   "cell_type": "code",
   "execution_count": 4,
   "metadata": {},
   "outputs": [
    {
     "name": "stdout",
     "output_type": "stream",
     "text": [
      "Image 17571457.png starting.\n",
      "Face 1 on image : 111.png extracted.\n",
      "Box on image : 111.png drawn.\n",
      "Image: 17571457.png completed.\n",
      "Image 111.png starting.\n",
      "Face 1 on image : 111.png extracted.\n",
      "Face 2 on image : 111.png extracted.\n",
      "Face 3 on image : 111.png extracted.\n",
      "Face 4 on image : 111.png extracted.\n",
      "Face 5 on image : 111.png extracted.\n",
      "Box on image : 111.png drawn.\n",
      "Image: 111.png completed.\n"
     ]
    }
   ],
   "source": [
    "count = 0\n",
    "for file in os.listdir('../base_images/'):\n",
    "    print(f'Image {file} starting.')\n",
    "    path_1 = os.path.join('../base_images/', file)\n",
    "    \n",
    "   \n",
    "    extract_faces(path_1, count)\n",
    "    count += 1\n",
    "    print(f'Image: {file} completed.')"
   ]
  },
  {
   "cell_type": "code",
   "execution_count": 5,
   "metadata": {},
   "outputs": [
    {
     "ename": "TypeError",
     "evalue": "extract_faces() missing 1 required positional argument: 'count'",
     "output_type": "error",
     "traceback": [
      "\u001b[0;31m---------------------------------------------------------------------------\u001b[0m",
      "\u001b[0;31mTypeError\u001b[0m                                 Traceback (most recent call last)",
      "\u001b[0;32m<ipython-input-5-5d9a89a644e7>\u001b[0m in \u001b[0;36m<module>\u001b[0;34m\u001b[0m\n\u001b[0;32m----> 1\u001b[0;31m \u001b[0mextract_faces\u001b[0m\u001b[0;34m(\u001b[0m\u001b[0;34m'../base_images/111.png'\u001b[0m\u001b[0;34m)\u001b[0m\u001b[0;34m\u001b[0m\u001b[0;34m\u001b[0m\u001b[0m\n\u001b[0m",
      "\u001b[0;31mTypeError\u001b[0m: extract_faces() missing 1 required positional argument: 'count'"
     ]
    }
   ],
   "source": [
    "\n",
    "extract_faces('../base_images/111.png')"
   ]
  },
  {
   "cell_type": "code",
   "execution_count": null,
   "metadata": {},
   "outputs": [],
   "source": [
    "# convert image in grayscale\n",
    "def convt_to_gray(img_path_in, img_path_out):\n",
    " \n",
    "    img = cv2.imread(img_path_in)\n",
    "    gray = cv2.cvtColor(img, cv2.COLOR_BGR2GRAY)\n",
    "    cv2.imwrite(img_path_out, gray)\n"
   ]
  },
  {
   "cell_type": "code",
   "execution_count": null,
   "metadata": {},
   "outputs": [],
   "source": [
    "def change_image(img_path_in, img_path_out):\n",
    "   \n",
    "        img = cv2.imread(img_path_in)\n",
    "        face_clip = img[40:240, 35:225]         #cropping the face in image\n",
    "        face_resized = cv2.resize(face_clip, (350, 350))\n",
    "        cv2.imwrite(img_path_out, face_resized) #resizing and saving the image"
   ]
  },
  {
   "cell_type": "code",
   "execution_count": null,
   "metadata": {},
   "outputs": [],
   "source": []
  }
 ],
 "metadata": {
  "kernelspec": {
   "display_name": "Python 3",
   "language": "python",
   "name": "python3"
  },
  "language_info": {
   "codemirror_mode": {
    "name": "ipython",
    "version": 3
   },
   "file_extension": ".py",
   "mimetype": "text/x-python",
   "name": "python",
   "nbconvert_exporter": "python",
   "pygments_lexer": "ipython3",
   "version": "3.8.3"
  }
 },
 "nbformat": 4,
 "nbformat_minor": 4
}
